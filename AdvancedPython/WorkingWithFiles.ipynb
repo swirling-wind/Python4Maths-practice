{
 "cells": [
  {
   "cell_type": "markdown",
   "metadata": {},
   "source": [
    "# Working with Files in Python\n",
    "This notebook provides the basics for how to work with files. Most of the functinality needed is provided by the `os` module.\n",
    "\n",
    "To get started we are going to create a directory with a set of files by extracting all of the files from the `cplexLP.zip` zip file that you would have downloaded in the \"IntroToDataScience\" notbook"
   ]
  },
  {
   "cell_type": "code",
   "execution_count": 1,
   "metadata": {},
   "outputs": [
    {
     "data": {
      "text/plain": [
       "0"
      ]
     },
     "execution_count": 1,
     "metadata": {},
     "output_type": "execute_result"
    }
   ],
   "source": [
    "import os\n",
    "# the system() function executes a command in the underlying (linux/windows/... shell)\n",
    "os.system(\"unzip cplexLP.zip\") "
   ]
  },
  {
   "cell_type": "markdown",
   "metadata": {},
   "source": [
    "How do we know if the files have been extracted? What files are there?\n",
    "`os.listdir()` shows the files that are available"
   ]
  },
  {
   "cell_type": "code",
   "execution_count": 2,
   "metadata": {},
   "outputs": [
    {
     "data": {
      "text/plain": [
       "['cplexLP.zip',\n",
       " 'TheNeedForSpeed-Answers.ipynb',\n",
       " '.ipynb_checkpoints',\n",
       " 'MIPLIBtest.ipynb',\n",
       " 'gauss.cpp',\n",
       " '__pycache__',\n",
       " 'cplex.log',\n",
       " 'TheNeedForSpeed.ipynb',\n",
       " 'gausstest.py',\n",
       " 'TripletEnumerationExercise.ipynb',\n",
       " 'cplexLP',\n",
       " 'cplexLP.json',\n",
       " 'IntroToDataScience-Answers.ipynb',\n",
       " 'WorkingWithFiles.ipynb',\n",
       " 'gauss.so',\n",
       " 'IntroToDataScience.ipynb',\n",
       " 'features.json']"
      ]
     },
     "execution_count": 2,
     "metadata": {},
     "output_type": "execute_result"
    }
   ],
   "source": [
    "os.listdir(\".\")"
   ]
  },
  {
   "cell_type": "markdown",
   "metadata": {},
   "source": [
    "How do we know if any of these are subdirectories? Use the `os.path` submodule which has many functions of the form `isXXX` where `XXX` is a type of file to check what kind of file we have"
   ]
  },
  {
   "cell_type": "code",
   "execution_count": 4,
   "metadata": {},
   "outputs": [
    {
     "name": "stdout",
     "output_type": "stream",
     "text": [
      "Methods for testing filetype in os.path: ['isabs', 'isdir', 'isfile', 'islink', 'ismount']\n"
     ]
    }
   ],
   "source": [
    "print(\"Methods for testing filetype in os.path:\",\n",
    "      [ name for name in dir(os.path) if name.startswith(\"is\")])"
   ]
  },
  {
   "cell_type": "markdown",
   "metadata": {},
   "source": [
    "Mostly we just want to distinguish between directories and files. Lets find all of the subdirectories of the current directory"
   ]
  },
  {
   "cell_type": "code",
   "execution_count": 6,
   "metadata": {},
   "outputs": [
    {
     "name": "stdout",
     "output_type": "stream",
     "text": [
      "Subdirectories are: .ipynb_checkpoints, __pycache__, cplexLP\n"
     ]
    }
   ],
   "source": [
    "print(\"Subdirectories are:\",\n",
    "      \", \".join([name for name in os.listdir(\".\") # names in the current directory\n",
    "                 if os.path.isdir(name)])\n",
    "     )# end of print after joining all the names with `, `"
   ]
  },
  {
   "cell_type": "markdown",
   "metadata": {},
   "source": [
    "How do we find all of the filenames within the cplexLP directory? Basically using listdir again. However note that we need to create complete path names of the form `\"cplexLP/file\"` (or `\"cplexLP\\file\"` if you are under windows. We use `os.path.sep` to give us the right separator between directories"
   ]
  },
  {
   "cell_type": "code",
   "execution_count": 9,
   "metadata": {},
   "outputs": [
    {
     "name": "stdout",
     "output_type": "stream",
     "text": [
      "['cplexLP/core2536-691.dual.log', 'cplexLP/pg5_34.dual.log', 'cplexLP/ns1208400.barrier.log', 'cplexLP/reblock67.barrier.log', 'cplexLP/bnatt350.dual.log', 'cplexLP/rococoC10-001000.primal.log', 'cplexLP/eilB101.dual.log', 'cplexLP/mine-90-10.barrier.log', 'cplexLP/n3seq24.primal.log', 'cplexLP/mine-166-5.barrier.log']\n"
     ]
    }
   ],
   "source": [
    "allFiles = [ \"cplexLP\" + os.path.sep + name for name in os.listdir(\"cplexLP\")]\n",
    "print(allFiles[:10])"
   ]
  },
  {
   "cell_type": "markdown",
   "metadata": {},
   "source": [
    "Here all filenames have a pattern. They consist of the _directory_`/`_instance_`.`_method_`.log`. How can we take one of these filenames and break it into parts? Perhaps use string `split()`:"
   ]
  },
  {
   "cell_type": "code",
   "execution_count": 10,
   "metadata": {},
   "outputs": [
    {
     "name": "stdout",
     "output_type": "stream",
     "text": [
      "cplexLP/reblock67.barrier.log solves reblock67 using barrier\n"
     ]
    }
   ],
   "source": [
    "filename = allFiles[3] # pick some filename\n",
    "name = filename.split(os.path.sep)[-1] # split of directory names and only keep the last part\n",
    "instance,method = name.split(\".\")[:2] # split by . and keep the first two parts as we don't care about .log\n",
    "print(filename,\"solves\",instance,\"using\",method)"
   ]
  },
  {
   "cell_type": "markdown",
   "metadata": {},
   "source": [
    "Reading files. Use the `open` command to open a file, and `close` method to close it:"
   ]
  },
  {
   "cell_type": "code",
   "execution_count": 11,
   "metadata": {},
   "outputs": [],
   "source": [
    "f = open(filename,\"r\")\n",
    "f.close()"
   ]
  },
  {
   "cell_type": "markdown",
   "metadata": {},
   "source": [
    "Note that files are automatically closed when the object (`f` in this case) disappears. However given that python does garbage collection at infrequent intervals we might want to do the following:"
   ]
  },
  {
   "cell_type": "code",
   "execution_count": 19,
   "metadata": {},
   "outputs": [
    {
     "name": "stdout",
     "output_type": "stream",
     "text": [
      "\n",
      "\n",
      "Welcome to IBM(R) ILOG(R) CPLEX(R) Interactive Optimizer 12.8.0.0\n",
      "\n"
     ]
    }
   ],
   "source": [
    "def readHead(filename):\n",
    "    with open(filename,\"r\") as f:\n",
    "        print(f.readline()) # print the first line of the file\n",
    "        print(f.readline()) # print the second line of the file \n",
    "        return\n",
    "        print(f.readline()) # print the third line of the file \n",
    "readHead(\"cplexLP/reblock67.barrier.log\")"
   ]
  },
  {
   "cell_type": "markdown",
   "metadata": {},
   "source": [
    "In this form the file f is automatically closed when we hit the return (by the `with` statement) as soon as we hit the return statement or if we were to throw an exception.\n",
    "\n",
    "To read lines of a file we can use `f.readlines()` for a file `f` or simply iterate over the lines in the file.\n",
    "Use `.strip()` to remove leading/trailing spaces (or other characters with an optional argument). \n",
    "The following prints only the lines from the file that contain exactly 4 words:"
   ]
  },
  {
   "cell_type": "code",
   "execution_count": 21,
   "metadata": {},
   "outputs": [
    {
     "name": "stdout",
     "output_type": "stream",
     "text": [
      "Selected objective  name:  obj\n",
      "\n",
      "Selected RHS        name:  rhs\n",
      "\n",
      "Selected bound      name:  bnd\n",
      "\n",
      "Objective sense      : Minimize\n",
      "\n",
      "Objective nonzeros   :     670\n",
      "\n",
      "  RHS nonzeros       :      20\n",
      "\n",
      "Tried aggregator 1 time.\n",
      "\n",
      "Using Nested Dissection ordering\n",
      "\n",
      "  Primal:  Fixed no variables.\n",
      "\n",
      "  Dual:  Fixing 1305 variables.\n",
      "\n"
     ]
    }
   ],
   "source": [
    "with open(filename,\"r\") as f:\n",
    "    for line in f:\n",
    "        words =  line.strip().split()\n",
    "        if len(words) ==4: print(line)"
   ]
  },
  {
   "cell_type": "markdown",
   "metadata": {},
   "source": [
    "The line containse a `\\n` and lots of spaces. We might want to just re-assemble the list of words into a string where words are separated by a single space:"
   ]
  },
  {
   "cell_type": "code",
   "execution_count": 22,
   "metadata": {},
   "outputs": [
    {
     "name": "stdout",
     "output_type": "stream",
     "text": [
      "Selected objective name: obj\n",
      "Selected RHS name: rhs\n",
      "Selected bound name: bnd\n",
      "Objective sense : Minimize\n",
      "Objective nonzeros : 670\n",
      "RHS nonzeros : 20\n",
      "Tried aggregator 1 time.\n",
      "Using Nested Dissection ordering\n",
      "Primal: Fixed no variables.\n",
      "Dual: Fixing 1305 variables.\n"
     ]
    }
   ],
   "source": [
    "with open(filename,\"r\") as f:\n",
    "    for line in f:\n",
    "        words =  line.strip().split()\n",
    "        if len(words) ==4: print(\" \".join(words))"
   ]
  },
  {
   "cell_type": "markdown",
   "metadata": {},
   "source": [
    "Note: It might be tempting to read CSV files as \n",
    "```python\n",
    "with open(csvfile,\"r\") as f:\n",
    "    for line in f:\n",
    "        cols = line.split(\",\")\n",
    "        ## and so on\n",
    "```\n",
    "But this is a bad idea because one of your columns might contain the text `\"hello, world\"` and would get split into two. Use the dedicated `csvreader` module that does a much better job of this.\n",
    "\n",
    "Of course you can also read the whole file in as a single string:"
   ]
  },
  {
   "cell_type": "code",
   "execution_count": 23,
   "metadata": {},
   "outputs": [
    {
     "name": "stdout",
     "output_type": "stream",
     "text": [
      "\n",
      "Welcome to IBM(R) ILOG(R) CPLEX(R) Interactive Optimizer 12.8.0.0\n",
      "  with Simplex, Mixed Integer & B\n"
     ]
    }
   ],
   "source": [
    "wholeText = open(filename,\"r\").read()\n",
    "print(wholeText[:100]) # first 100 characters of our textfile"
   ]
  },
  {
   "cell_type": "markdown",
   "metadata": {},
   "source": [
    "Writing files can be done very similarly. You can open a file for writing using `\"w\"` instead of `\"r\"` in the `f=open(filename,\"w\")` command or use `\"a\"` to _append_ to the end of the file.\n",
    "\n",
    "Now `f.write(wholeText)` will write all of the text.\n",
    "Or use `print(\"hello\",file=f)` to print just a small amount of text.\n",
    "\n",
    "Note that when writing text is buffered, so unless you use `print(\"hello\",file=f,flush=True)` the text may not appear in the file until after you close it (and may get lost entirely if your program crashes before you manage to close the file - but that is rare)."
   ]
  },
  {
   "cell_type": "markdown",
   "metadata": {},
   "source": [
    "### Shell utilities\n",
    "To do more complicated things with sets of files such as copying renaming or the like, use `shutil`. Here we will rename every file from `.log` to `.txt`"
   ]
  },
  {
   "cell_type": "code",
   "execution_count": 27,
   "metadata": {},
   "outputs": [
    {
     "data": {
      "text/plain": [
       "['bley_xl1.dual.txt',\n",
       " 'csched010.dual.txt',\n",
       " 'rail507.dual.txt',\n",
       " 'macrophage.dual.txt',\n",
       " 'n3div36.barrier.txt',\n",
       " 'net12.barrier.txt',\n",
       " 'triptim1.primal.txt',\n",
       " 'mzzv11.barrier.txt',\n",
       " 'beasleyC3.primal.txt',\n",
       " 'opm2-z7-s2.primal.txt']"
      ]
     },
     "execution_count": 27,
     "metadata": {},
     "output_type": "execute_result"
    }
   ],
   "source": [
    "import shutil as sh\n",
    "for filename in os.listdir(\"cplexLP\"):\n",
    "    if filename.endswith(\".log\"): # only move log files\n",
    "        newname = filename.replace(\".log\",\".txt\")\n",
    "        sh.move(\"cplexLP/\"+filename,\"cplexLP/\"+newname) # could move to another directory too\n",
    "os.listdir(\"cplexLP\")[:10]"
   ]
  },
  {
   "cell_type": "markdown",
   "metadata": {},
   "source": [
    "Time to clean up. Let's delete the whole directory:"
   ]
  },
  {
   "cell_type": "code",
   "execution_count": 30,
   "metadata": {},
   "outputs": [
    {
     "data": {
      "text/plain": [
       "False"
      ]
     },
     "execution_count": 30,
     "metadata": {},
     "output_type": "execute_result"
    }
   ],
   "source": [
    "if \"cplexLP\" in os.listdir():\n",
    "    sh.rmtree(\"cplexLP\")\n",
    "\"cplexLP\" in os.listdir() # check if it still exists"
   ]
  },
  {
   "cell_type": "code",
   "execution_count": null,
   "metadata": {},
   "outputs": [],
   "source": []
  }
 ],
 "metadata": {
  "kernelspec": {
   "display_name": "Python 3",
   "language": "python",
   "name": "python3"
  },
  "language_info": {
   "codemirror_mode": {
    "name": "ipython",
    "version": 3
   },
   "file_extension": ".py",
   "mimetype": "text/x-python",
   "name": "python",
   "nbconvert_exporter": "python",
   "pygments_lexer": "ipython3",
   "version": "3.6.10"
  }
 },
 "nbformat": 4,
 "nbformat_minor": 4
}
