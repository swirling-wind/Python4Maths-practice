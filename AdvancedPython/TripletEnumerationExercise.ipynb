{
 "cells": [
  {
   "cell_type": "markdown",
   "metadata": {},
   "source": [
    "# Fast Python Exercise\n",
    "The goal for this exercise is simple: given a list of numbers, enumerate all triplets of numbers contained in this list that sum to zero (without taking the same element twice out of the list).\n",
    "\n",
    "This function can be implemented trivially as:"
   ]
  },
  {
   "cell_type": "code",
   "execution_count": null,
   "metadata": {},
   "outputs": [],
   "source": [
    "s3=lambda N: {(Ni,Nj,Nk) for i,Ni in enumerate(N) for j,Nj in enumerate(N) for k,Nk in enumerate(N)\n",
    "               if len({i,j,k}) == 3 and Ni <= Nj <= Nk and Ni+Nj+Nk==0 }"
   ]
  },
  {
   "cell_type": "markdown",
   "metadata": {},
   "source": [
    "Your task: Implement a fast function to compute the same set. This function should return the same result as `s3(N)` above (check for small lists `N`). Then check how long it takes for the following large list:"
   ]
  },
  {
   "cell_type": "code",
   "execution_count": 1,
   "metadata": {},
   "outputs": [],
   "source": [
    "import random\n",
    "random.seed(523529)\n",
    "N = [random.randint(-10000,10000) for i in range(7777)]"
   ]
  },
  {
   "cell_type": "markdown",
   "metadata": {},
   "source": [
    "Note that on the https://maxima.erc.monash.edu/ server can be done in basic python (without using external libraries) in under 5 seconds of CPU time. By importing appropriate libraries perhaps you can even do it in sub 1 second?"
   ]
  },
  {
   "cell_type": "code",
   "execution_count": null,
   "metadata": {},
   "outputs": [],
   "source": []
  }
 ],
 "metadata": {
  "kernelspec": {
   "display_name": "Python 3",
   "language": "python",
   "name": "python3"
  },
  "language_info": {
   "codemirror_mode": {
    "name": "ipython",
    "version": 3
   },
   "file_extension": ".py",
   "mimetype": "text/x-python",
   "name": "python",
   "nbconvert_exporter": "python",
   "pygments_lexer": "ipython3",
   "version": "3.6.10"
  }
 },
 "nbformat": 4,
 "nbformat_minor": 4
}
