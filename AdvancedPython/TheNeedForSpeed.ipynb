{
 "cells": [
  {
   "cell_type": "markdown",
   "metadata": {},
   "source": [
    "# Python - The Need for Speed\n",
    "\n",
    "Python was originally developed by Guido van Rossum as a high level general purpose scripting language in the 1990s. It's strength has been in particular that it is easy to learn and that algorithms can be coded quickly (python has sometimes been described as executable pseudo-code). In recent years it has been increasingly used also for scientific computing and mathematics. Here one quickly reaches a point where the time spent waiting for a program to run becomes much longer than the time spent writing the code. Hence the need for speed. \n",
    "\n",
    "In this tutorial a number of ways of speeding python up will be explored. These will be tried in the context of a simple numerical algorithm. We will start with a simple but slow implementation and then look at what makes it slow and how to speed things up."
   ]
  },
  {
   "cell_type": "markdown",
   "metadata": {},
   "source": [
    "## Method 0: Gaussian Elimination - A simplistic implementation\n",
    "Consider one of the basic mathematical algorithms that most students learn in their first year of university mathematics: solving a set of simultaneous linear equations using the Gaussian Elimination algorithm. Below is the framework for a function to implement this method. Note the use of comments to describe the intent and usage of the function. Preconditions and post-conditions, in the form of assert statements, are used to help with debugging. Including such comments and conditions as a matter of course is a good practice, even for  code that you don't intend to maintain long term, as it can save you a lot of time hunting for bugs or when you invariably end up re-using code for other purposes than originally planned.\n",
    "\n",
    "While this is not the main point of the exercise, you may also want to think about things such as numerical stability and how to deal with any errors. To keep things simple here we are going to assume that the input arguments are a dense matrix $A$ in the form of a dictionary, right hand side vector $b$ and we return the solution to $A x = b$ as a simple list.\n",
    "\n",
    "*Hint:* Here is a pseudo-code of a very basic Gaussian elimination algorithm\n",
    "\n",
    "```python\n",
    "INPUT: A,b\n",
    "U := A  # so the input is not modified\n",
    "x := b\n",
    "for i = 1,...,n:  # using 1 indexing here as in typical math. notation\n",
    "    # assuming U_ii != 0 here, could add code to cater for this exception\n",
    "    Divide row i of U by U_ii  (this makes U_ii==1)\n",
    "    for k = i+1,...,n:\n",
    "        subtract U_ki times row i from row k\n",
    "        x_k := x_k - U_ki * x_i\n",
    "U is now upper triangular \n",
    "for i = n,n-1,...,1: # back substitution\n",
    "    x_i := (x_i - sum( U_ik * x_k for k=i+1,...,n) ) / U_ii\n",
    "OUTPUT: x\n",
    "```"
   ]
  },
  {
   "cell_type": "code",
   "execution_count": null,
   "metadata": {},
   "outputs": [],
   "source": [
    "def gaussSimple(A,b):\n",
    "    \"\"\"Solve the set of equations A x = b and return x\n",
    "    Input: b = list of length n, and A = dictionary, with A[i,j] being the entry for every row i, column j\n",
    "    Output: A list of length n giving the solution. (This version throws an assertion failure if there is no solution)\n",
    "    Note: The inputs are not modified by this function.\"\"\"\n",
    "    n = len(b)\n",
    "    N = range(n)\n",
    "    assert (len(A) == n*n), \"Matrix A has wrong size\"  # simple check of inputs\n",
    "    assert all( (i,j) in A for i in N for j in N), \"Cannot handle sparse matrix A\"\n",
    "    U = dict(A.items()) # make a copy of A before we transform it to upper triangular form\n",
    "    x = b[:]  # copy so we don't modify the orignal\n",
    "    \n",
    "    ## insert your code here\n",
    "    ## for the most basic version we want to:\n",
    "    ## For every row i\n",
    "    ##    Eliminate all entries in column i below i by subtracting some multiple of row i\n",
    "    ##    Update the right hand side (in x) accordingly\n",
    "    ##    return [] if A does not have full rank (we come across a coefficient of zero)\n",
    "    ## Back-substitute to replace x with the actual solution\n",
    "    \n",
    "    error = max( abs(sum(A[i,j]*x[j] for j in N)-b[i]) for i in N)\n",
    "    assert (error < 1e-5 ), f\"Incorrect solution: out by {error}\" # check that we have reasonable accuracy\n",
    "    return x\n",
    "    "
   ]
  },
  {
   "cell_type": "markdown",
   "metadata": {},
   "source": [
    "To test this we are going to generate some random data. This will also allow us to see how fast it runs as the size of the problem increases"
   ]
  },
  {
   "cell_type": "code",
   "execution_count": null,
   "metadata": {},
   "outputs": [],
   "source": [
    "from random import random\n",
    "def randProb(n):\n",
    "    \"Returns a randomly generated n x n matrix A (as a dictionary) and right hand side vector b (as a list).\"\n",
    "    n = int(n)\n",
    "    assert n > 0\n",
    "    N = range(n)\n",
    "    return dict( ((i,j), random()) for i in N for j in N), [random() for i in N]\n",
    "\n",
    "A,b = randProb(3)\n",
    "gaussSimple(A,b)"
   ]
  },
  {
   "cell_type": "markdown",
   "metadata": {},
   "source": [
    "## Execution timing\n",
    "Now lets see how fast this thing goes. There  are a couple of things to think about when we talk about timing:\n",
    "* Is it elapsed time (wall-clock) time or CPU time we are measuring?  The two should be nearly the same if we are using a single threaded program on a computer that is not fully loaded. However, once we have multiple threads in our program, or multiple other programs competing for a limited number of CPUs, the results could be quite different\n",
    "* Random variation - running the same code several times can result in small random variations in run-time due to a range of factors (cache misses, variable CPU clock speed, computer load, etc) even when the functiuon we are testing is entirely deterministic and run with the same inputs\n",
    "* Garbage collection: One of the things that make Python convenient is that we generally don't have to worry about memory management. However if the automated garbage collection happens to cut in during the function we are testing this can make a big difference.\n",
    "\n",
    "For our tests here we are going to use the `timeit` module that takes care of the last two points by turning of garbage collection and making repeated tests easy. We will specifically ask it to measure CPU time using the `time.process_time()` function but you can experiment with using `time.perf_counter()` function which is the default.\n",
    "\n",
    "In addition, to get a feeling for how the runtime increases as we double the size of the data, we also print the ratio between successive tests with increasing data.  We reduce the random variation between tests of different methods by always generating data with the same random number seed. \n",
    "\n",
    "Since we are going to make use of the speed test functions repeatedly we are going to write this out as a separate module that we can import into any notebook or python program.\n",
    "    "
   ]
  },
  {
   "cell_type": "code",
   "execution_count": null,
   "metadata": {},
   "outputs": [],
   "source": [
    "%%writefile 'gausstest.py'\n",
    "\"\"\"This module contains a function for testing the speed of a function which solve Ax=b\n",
    "usage:   import gausstest\n",
    "         gausstest.speed(myfunction) # optional second argument, maximum size n\n",
    "Here myfunction takes arguments A,b,\"\"\"\n",
    "import timeit,time,gc\n",
    "from statistics import mean,stdev\n",
    "from random import seed,random\n",
    "\n",
    "def randProb(n):\n",
    "    \"Returns a randomly generated n x n matrix A (as a dictionary) and right hand side vector b (as a list).\"\n",
    "    n = int(n)\n",
    "    assert n > 0\n",
    "    N = range(n)\n",
    "    return dict( ((i,j), random()) for i in N for j in N), [random() for i in N]\n",
    "\n",
    "def speed(method,maxSize=400):\n",
    "    seed(123456) # fix some arbitrary seed so we keep generating the same data\n",
    "    randP = lambda n : randProb(n) # add randProb to locals() namespace\n",
    "    prev,n = 0.0, 50\n",
    "    gc.disable()\n",
    "    while n <= maxSize:\n",
    "        gc.collect() # manual cleanout of garbage before each repeat\n",
    "        t = timeit.repeat(stmt=\"method(A,b)\",setup=f\"A,b=randP({n})\",\n",
    "                      timer=time.process_time,repeat=5,number=1,globals=locals())\n",
    "        print(\"%4d %10.4f σ=%.2f sec\" % (n,mean(t),stdev(t)),\"(x %.2f)\"%(mean(t)/prev) if prev > 0 else \"\")\n",
    "        prev = mean(t)\n",
    "        n *= 2\n",
    "    gc.enable()"
   ]
  },
  {
   "cell_type": "markdown",
   "metadata": {},
   "source": [
    "Now lets test our function systematically."
   ]
  },
  {
   "cell_type": "code",
   "execution_count": null,
   "metadata": {},
   "outputs": [],
   "source": [
    "import gausstest\n",
    "print(\"Simple test of a single 3-dimensional instance: \",\n",
    "      gaussSimple(*gausstest.randProb(3)),\"\\n\")\n",
    "# Note that in the above the '*' means we are passing the tuple of outputs \n",
    "# from randProb as successive arguments to gaussSimple\n",
    "gausstest.speed(gaussSimple) # full test"
   ]
  },
  {
   "cell_type": "markdown",
   "metadata": {},
   "source": [
    "### Discussion - Complexity\n",
    "* What is the theoretical complexity of this algorithm?\n",
    "* Does the practical performance match the theoretical expectation?\n",
    "* What can be done to make this implementation better?\n",
    "   * More robust numerically? - (Left as exercise to interested students)\n",
    "   * Faster? - What makes it slow?"
   ]
  },
  {
   "cell_type": "markdown",
   "metadata": {},
   "source": [
    "## Method 1: changing the data structures\n",
    "As discussed, part off the reason for the slow time is that python treates every variable and every element of generic data structures like lists and dictionaries, as an \"Any\" type that could contain anything. That means that in executing every step of the algorithm, the python interpreter has to got through a vast list of \"if\" statements to check every possible type to determine what actually needs to be done at this point of the code.\n",
    "\n",
    "In our next version, we are going to replace the dictionary and list structures with `array` data structures. These are much more like the arrays found in Java/C/Fortran/... just a big chunk of memory with each element containing the same type. The basic usage for this data type is \n",
    "```python\n",
    "from array import array\n",
    "x = array('i',range(10))\n",
    "```\n",
    "This would initialise an array of integers containing the numbers 0,...,9. An array behaves much like a list in python but contains only elements of one basic type (integer, char, float). For our purposes we will want to create `array('d',[])` where 'd' stands for `double` (C style 64-bit floating point number) and `[]` should be replaced by a suitable initialiser rather than the empty list. A\n",
    "\n",
    "Write a function `gaussArray` that uses array data structures for all data types (matrix, right hand side and x). To fit the matrix into a single dimensional array, you need to do a bit of index arithmetic (and use `range` with appropriate step size). Alternatively (if you prefer) you could use the `numpy` version of `array`."
   ]
  },
  {
   "cell_type": "code",
   "execution_count": null,
   "metadata": {},
   "outputs": [],
   "source": [
    "from array import array\n",
    "#Solution algorithm\n",
    "def gaussArray(A,b):\n",
    "    \"\"\"Solve the set of equations A x = b and return x\n",
    "    Input: b = list of length n, and A = dictionary, with A[i,j] being the entry for every row i, column j\n",
    "    Output: An array of length n giving the solution.\n",
    "    Note: The inputs are not modified by this function.\"\"\"\n",
    "    ## insert your code here\n",
    " "
   ]
  },
  {
   "cell_type": "code",
   "execution_count": null,
   "metadata": {},
   "outputs": [],
   "source": [
    "import gausstest\n",
    "gausstest.speed(gaussArray)"
   ]
  },
  {
   "cell_type": "markdown",
   "metadata": {},
   "source": [
    "### Discussion Question:\n",
    "Where does the speed-up of this method over the previous one come from? What makes this method quite slow still?"
   ]
  },
  {
   "cell_type": "markdown",
   "metadata": {},
   "source": [
    "## Method 2: Using numpy\n",
    "For numeric computation, a \"standard\" set of libraries is the [numpy](http://www.numpy.org/) module and friends. This provides vectors and matrices together with basic linear algebra routines implented largely in C++ and Fortran. These laregy mimick the type of basic functionality built into matlab. Many other python packages are built on top of this so that the numpy data types have become a defacto standard for any kind of scientific computing with python.  \n",
    "\n",
    "We could use numpy to solve our equations directly using the [`numpy.linalg.solve`](https://docs.scipy.org/doc/numpy/reference/generated/numpy.linalg.solve.html#numpy.linalg.solve) routine. You may want to try this briefly. However, here we are mainly interested here in seeing whether writing our own algorithm on top of the basic matrix methods is going to be faster. \n",
    "\n",
    "Basic usage for numpy: For convenience we `import numpy as np` (a fairly common practice in the python community)\n",
    "* Create matrices using something like `A = np.array( [ [1,2,3],[4,5,6] ] )` to create a 2 x 3 matrix. If all elements are integer this will be int64 type otherwise float64. You can query the dimensions with `A.shape`\n",
    "* Matrices can be indexed using `A[0,2] == 3` or using slices such as `A[0,1:3] == np.array([2,3.0])`\n",
    "* Arithmetic operations are overloaded to do mostly do what you would expect. The only significant exception is multiplication. When multiplying two arrays or matrices together we get the Schur product, that is the result has each of the corresponding elements from the input multiplied together (the operands must have the same dimensions). To get the normal inner product or matrix procut use `np.matmul`. E.g. np.matmul( np.array([[3,0],[0,2]]), A) or `A.dot(x)` to get an inner product that is effectively the same as matrix multiply if A is a matrix and x is a vector or matrix (but behaves slightly differently for other types of A & x).\n",
    "* Matrices can be built up using `np.hstack`, `np.vstack` (horizontal & vertical stacking)\n",
    "* To reshape a numpy array use `np.reshape`, this is particularly useful to turn 1 dimensional matrices into 2 dimensional matrices. `V = np.reshape(v,(len(v),1))` will turn an array v of length n into a n x 1 matrix V.\n",
    "\n",
    "The task for this method is to write a Gaussian elimination method using matrix multiplications. In a first year maths course you have probably seen that the elementary row operations of Gaussian elimination can be represented by pre-multiplying the matrix we are reducing with a suitable elementary matrix (an identity matrix with one off-diagonal element). So we can rewrite the algorithm to set up a suitable elementary matrix for each row reduction and pre-multiplying our matrix with this. For example for a 5 x 5 matrix $A$, to subtract 3 times the 2nd row from the fourth row we would pre-multiply $A$ by\n",
    "$$E_{r4-3\\times r2}=\\begin{bmatrix}1& & & &\\\\& 1 & & &\\\\ &&1&&\\\\&-3&&1&\\\\&&&&1\\end{bmatrix}$$\n",
    "\n",
    "\n",
    "There is only one problem: Naive matrix multiplication requires $O(n^3)$ operations. If we just replace out inner loop with such a matrix multiplication, the overal complexity will be $O(n^5)$ - clearly that would be a bad idea. To fix this we are going to use two \"tricks\"\n",
    "1. Collapsing all of the elementary matrices into a single square matrix that carries out all of the row reductions below the current element. For \"zeroing\" out the column below element $(i,i)$ this looks like an identity matrix with non-zero elements only below element $(i,i)$. This means we are only carrying out $O(n)$ matrix multiplications.\n",
    "2. Using sparse matrices. Since the matrices we are using are mostly zero, we only want to store, and more importantly multipy with, the non-zero entries of the matrix. This reduces the cost of matrix multiplications from $O(n^3)$ to $O(n^2)$, as the sparse matrix only has at most 2 non-zero entries per row.\n",
    "\n",
    "Note: sparse matrices are found not in numpy itself but in [scipy.sparse](https://docs.scipy.org/doc/scipy/reference/sparse.html) where there are multiple formats, depending on whether we are storing matrices by row or column or with some (block) diagonal structure. Here it makes sense to use the row based format (as when we are pre-multiplying with our special matrix, each entry in the answer is the inner product of a column of the right hand side with a row of our special matrix). For a compressed row sparse matrix the internal storage representation is:\n",
    "* An array `start` of length number of rows + 1, with `start[i]` containing the first index of non-zero elements of row `i` (and `start[i+1]` giving the end)\n",
    "* An array `col` of length number of non-zeros where `col[j]` is the column of the j'th non-zero entry in the matrix\n",
    "* An array `data` of length number of non-zeros so that `A[i,j] == data[k]` if `col[k]==j` and `start[i]<=k<start[i+1]`\n",
    "\n",
    "We can set such a sparse matrix up by either providing the `start`, `col` and `data` arrays explicitly, or in various other formats as described [here](https://docs.scipy.org/doc/scipy/reference/generated/scipy.sparse.csr_matrix.html#scipy.sparse.csr_matrix). "
   ]
  },
  {
   "cell_type": "code",
   "execution_count": null,
   "metadata": {},
   "outputs": [],
   "source": [
    "import numpy as np\n",
    "def npSolve(A,b):\n",
    "    \"just to check that numpy really is faster\"\n",
    "    # write an implementation that calls np.linalg.solve\n",
    "gausstest.speed(npSolve,800)"
   ]
  },
  {
   "cell_type": "code",
   "execution_count": null,
   "metadata": {},
   "outputs": [],
   "source": [
    "import numpy as np\n",
    "from scipy.sparse import csr_matrix \n",
    "def gaussSparse(A,b):\n",
    "    \"Implementation of Gaussian elimination with numpy and sparse matrices\"\n",
    "    # write an implementation that uses csr_matrix\n",
    "gausstest.speed(gaussSparse,1600) # this should be fast enough to allow running up to 1600x1600"
   ]
  },
  {
   "cell_type": "markdown",
   "metadata": {},
   "source": [
    "## Method 3 - Call an external library\n",
    "At this point you might think - for this task Python is more trouble than it's worth. Why not just write the critical parts in a real programming language (say C++)? Just use Python to do what it's good at: pre-processing data, reporting, quick-and-dirty hacking etc. Fortunately, calling an external library from Python is not hard. Here I will provide you a simple C callable library that implements the basic gaussian elimination and it will be your task to interface to this.  Similar patterns are also useful if you are using a commercial library (no source code available) or if you inhert some code from a colleague who still codes in Fortran.\n",
    "\n",
    "For starters here is the C++ code"
   ]
  },
  {
   "cell_type": "code",
   "execution_count": null,
   "metadata": {},
   "outputs": [],
   "source": [
    "%%writefile gauss.cpp\n",
    "\n",
    "extern \"C\" {  // initial declaration as C style function (don't want C++ function name mangling)\n",
    "    const char *hello(const char *world); // simple test function \n",
    "    double check(const double **A,int i,int j); // returns A[i][j], check if arguments are passed correctly\n",
    "    double gauss(int n,const double **A,const double *b,double *x); // compute x : A x = b, for n x n matrix A\n",
    "             // assumes that x is already allocated in the right size - returns the maximum error\n",
    "}\n",
    "#include <stdio.h>\n",
    "#include <vector>\n",
    "#include <math.h>\n",
    "const char*hello(const char *world) { static char buf[1028]; sprintf(buf,\"Hello %s\",world); return buf; }\n",
    "\n",
    "double check(const double **A,int i,int j) { // check if arguments are passed correctly\n",
    "    return A[i][j];\n",
    "}\n",
    "                                                          \n",
    "double gauss(int n,const double **A,const double *b,double *x) // compute x : A x = b, for n x n matrix A & return max error\n",
    "{\n",
    "    std::vector<std::vector<double> > U(n);\n",
    "    for(int i=0; i<n; ++i){   // copy input data into U\n",
    "        U[i].resize(n+1);\n",
    "        for(int j=0; j<n; ++j) U[i][j]=A[i][j];\n",
    "        U[i][n]=b[i];\n",
    "    }\n",
    "    for(int i=0; i<n; ++i)  // do the row reduction\n",
    "        for(int j=i+1; j<n; ++j){\n",
    "            const double mult = U[j][i]/U[i][i];\n",
    "            U[j][i] = 0;\n",
    "            for(int k=i+1; k<=n; ++k)\n",
    "                U[j][k] -= mult * U[i][k];\n",
    "        } \n",
    "    for(int i=n-1; i>=0; --i){ // back-substitution\n",
    "        x[i] = U[i][n];\n",
    "        for(int j=i+1; j<n; ++j) x[i] -= U[i][j]*x[j];    \n",
    "        x[i] /= U[i][i];\n",
    "    }\n",
    "    double error=0;\n",
    "    for(int i=0; i<n; ++i){\n",
    "        double sum=-b[i];\n",
    "        for(int j=0; j<n; ++j) sum += A[i][j]*x[j];\n",
    "        if(fabs(sum)>error) error = fabs(sum);\n",
    "    }\n",
    "    return error;\n",
    "} // end function gauss()                                           "
   ]
  },
  {
   "cell_type": "markdown",
   "metadata": {},
   "source": [
    "Lets compile this code. If you are under windows and are having trouble with this, there is a pre-compiled .dll on the website (just put it in the same folder as this notebook)"
   ]
  },
  {
   "cell_type": "code",
   "execution_count": null,
   "metadata": {},
   "outputs": [],
   "source": [
    "import subprocess\n",
    "# run: a simple function to execute a command (like os.system) and capture the output\n",
    "run = lambda cmd: subprocess.run(cmd.split(),stdout=subprocess.PIPE,stderr=subprocess.STDOUT).stdout.decode(\"utf-8\")\n",
    "print(\n",
    "    run(\"g++ -o gauss.so -fPIC -shared -O3 -Wall gauss.cpp -lm\"), # compile\n",
    "    run(\"ls -l gauss.so\")) # check the library exists\n",
    "\n",
    "#### Note: in Jupyter notebooks we could just as easily do this with the 'magic' ! commands below\n",
    "# This is just a bit of magic go compile the C++ code. If you are doing this on windows you would get a DLL (assuming \n",
    "# you have a proper windows installation that includes enough of cygwin to make windows look like a proper operating system :-)\n",
    "!g++ -o gauss.so  -fPIC -shared -O3 -Wall gauss.cpp -lm\n",
    "# you should now have a file gauss.so in the same directory as the notebook\n",
    "!ls -l gauss.so  # just checking that the file is here and has the correct timestamp"
   ]
  },
  {
   "cell_type": "markdown",
   "metadata": {},
   "source": [
    "### Calling an external library\n",
    "Most of the magic required for interacting with the compiled library can be found in the [`ctypes`](https://docs.python.org/3.6/library/ctypes.html) module. The key elements are:\n",
    "* `cdll.LoadLibrary(\"./gauss.so\")` allows you to load a library. There are some subtle differences between windows (loading a .dll library) and Linux (calling a .so library) but it should work on any system (also Macs). Note: a library can only be loaded once. A second call to LoadLibrary with the same filename will return a link to the same (previously loaded) library.  If you change the C++ source code an recompile you need to restart the kernel (or change the filename \n",
    "* Converting to the correct types: ctypes defines standard ctypes. Many things will convert automatically for example python `bytes` string to `const char *` \n",
    "* When working with C types explicitly you may need to convert. E.g. `i=cint(3)` and `i.value` (to go from python int to `cint` and back again)\n",
    "* Sometimes we need to specifically set things up correctly. We can use `ctypes.c_void_p` to get a generic pointer type (`void *`) or use `POINTER(c_int)` to create a pointer to an integer (in this case).\n",
    "* Arrays can be declared directly by multiplying a type by an integer size and using an initaliser list. For example  `c_int*3` is the same type as `int[3]` in C/C++. So `(c_int*3)()` constructs an unintialised array and `(c_int * 3)([0,1,2])` will create an initialised array. Just like in C, you can call a function expecting `POINTER(c_int)` with a an argument of type `c_int*3`, for example.\n",
    "* You may need to declare functions including their return type so that python needs how to call the function. For example if you had loaded a library `lib` containing a function called `func` then\n",
    "   * `lib.func.argtypes = [c_char_p, c_double]` says that `func(char *, double)` is the signature of the arguments\n",
    "   * `lib.func.restype = c_char` says func returns a `char` (rather than the default `int`)\n",
    "* Alternatively numpy provides a simple way to access the pointer to the underlying memory buffer. If `x` is a numpy array then `x.ctypes.data` contains the pointer. See [`numpy.ndarray.ctypes`](https://docs.scipy.org/doc/numpy/reference/generated/numpy.ndarray.ctypes.html) for more information\n",
    "* Yet another option is to modify the C code to have a set of simple helper functions for setting up the inputs and querying the outputs with all helper functions just receiving or returning basic values (int or double) that can be passed easily.\n",
    "   \n",
    "Have a go at calling the compiled library. To get started you might want to test that you can load and call simple functions. For example try calling the `hello(b\"world\")` function from the library or use the `check(A,i,j)` function to see if you can pass a matrix and return element `A[i][j]`."
   ]
  },
  {
   "cell_type": "code",
   "execution_count": null,
   "metadata": {},
   "outputs": [],
   "source": [
    "# insert your code here"
   ]
  },
  {
   "cell_type": "markdown",
   "metadata": {},
   "source": [
    "Now try writing a small wrapper to pass the standard equation data into the C program and return the result as a list"
   ]
  },
  {
   "cell_type": "code",
   "execution_count": null,
   "metadata": {},
   "outputs": [],
   "source": [
    "# solution\n",
    "from ctypes import *\n",
    "\n",
    "def gaussC(A,b):\n",
    "    \"Solve by using the gauss() function from gauss.so/gauss.dll\"\n",
    "    # write your code here\n",
    "\n"
   ]
  },
  {
   "cell_type": "code",
   "execution_count": null,
   "metadata": {},
   "outputs": [],
   "source": [
    "import gausstest\n",
    "gausstest.speed(gaussC,1600) # how fast will this go?"
   ]
  },
  {
   "cell_type": "markdown",
   "metadata": {},
   "source": [
    "### Discussion\n",
    "Why is C fast? Can python ever be as fast as C?"
   ]
  },
  {
   "cell_type": "markdown",
   "metadata": {},
   "source": [
    "## Method 4 - Using Numba\n",
    "What about compiling Python to give it the speed of C/C++/Fortran or at least something close to it?  There are a number of projects that are working towards this goal. Some examples of this include [PyPy](https://pypy.org/), [PyRex](http://www.cosc.canterbury.ac.nz/greg.ewing/python/Pyrex/) (no longer supported?) and [Numba](http://numba.pydata.org/). Each of these make some attempt to compile python to native machine code. Note that there are also some other python implementation such as Jython and IronPython that target the Java Virtual Machine and .NET, but this is more about compatibility with a different software ecosystem than speed. Another issue that can cause confusion is that Python \"byte compiles\" modules - this is quite different to compiling to machine code with a language such as C or Fortran. It really just turns verbose ASCII source code to a much denser binary format that is still interpreted but much quicker for the interpreter to read (for example it doesn't contain any of the comments from the original source).\n",
    "\n",
    "The difficulty with trying to compile Python, rather than interpreting it, is that Python was _not_ designed for this. Hence most attempts at producing a fast, compiled version of Python tends to only be compatible with a subset of python. Here we will use the **Numba** package, because it is in very active development, can be mixed seamlessly with interpreted Python code, and particularly targets scientific computing applications. \n",
    "\n",
    "How does Numba work? It does a just-in-time (JIT) compilation of marked functions into machine code. That is we include a special library and \"tag\" functions to be compiled to machine code the first time that they are run. Such tagged functions can only use a subset of the python language (or else the numba package will fall back to running same code as the interpreter)\n",
    "\n",
    "Basic usage:\n",
    "```Python\n",
    "from numba import * #or just import jit, int32,float64\n",
    "\n",
    "@jit( float64(int32,float64[:,:]), nopython=True)\n",
    "def f(n,M):\n",
    "    return M[n,n]\n",
    "```\n",
    "What does all that mean?\n",
    "* `@jit` is a special decorator for the function that says this function should be just-in-time compiled by numba. In fact this is the only part that is really necessay, the rest of the lines in paranthesis could be left out. \n",
    "* The first optional argument to `@jit` provides a type specification for the function. In this case it says that the function returns a `float64` (64-bit floating point number or `double` in C). It takes two arguments the first of which is a 32-bit signed integer (as opposed to say a `uint8`), the second argument is a numpy matrix. If this is not specified, numba will \"guess\" the types based on the arguments to the function the first time it is called. \n",
    "* The same function may be compiled multiple times with different types (either by being called with different arguments or by specifying a list of type declarations). Note that the compile time makes the first time that the function is called relatively slow compared to subsequent calls\n",
    "* `nopython=True` tells the compiler that it should not accept any python code that it cannot compile (where it would need to fall back to the python interpreter). Without this @jit will always succeed in \"compiling\" the function but will potentially produce a function that is no faster than the standard interpreted python code. With the flag set, the compiler will raise an error if the function includes elements of python that it can't handle.\n",
    "\n",
    "That should be enough to get you started. See the [Numba manual](http://numba.pydata.org/numba-doc/latest/user/index.html) for more information. Go ahead and write a version of the Gaussian elimination solver using Numba - not that you will need a wrapper function to translate the dictionary into numpy arrays first."
   ]
  },
  {
   "cell_type": "code",
   "execution_count": null,
   "metadata": {},
   "outputs": [],
   "source": [
    "import numba\n",
    "from numba import jit,float64\n",
    "import numpy as np\n",
    "\n",
    "# add a @jit decorator\n",
    "def numbaSolve(A,b):\n",
    "    \"\"\"Just-in-time compiled gauss-elimination function\"\"\"\n",
    "    # write your code here to compute x\n",
    "    return x\n",
    "\n",
    "def gaussNumba(A,b):\n",
    "    \"wrapper to call the function compiled with numba\"\n",
    "    # convert argument types and call numbaSolve\n",
    "    return x\n"
   ]
  },
  {
   "cell_type": "code",
   "execution_count": null,
   "metadata": {},
   "outputs": [],
   "source": [
    "gausstest.speed(gaussNumba,1600) # how does this compare with the C++ version?"
   ]
  },
  {
   "cell_type": "markdown",
   "metadata": {},
   "source": [
    "### Some comments on Numba\n",
    "The strategy employed by Numba is virtually identical to that used in [Julia](http://julialang.org) to produce fast code. If you have a project that is entirely focussed on heavy-duty computational work, you may want to give this ago. For small amounts of numerical computation in a larger python project, Numba is entirely adequate though (and still improving rapidly due to ongoing development). For algorithms that are based less on numerical computations with vectors and matrices, you may also run into the limits of what Numba can't compile - this may require rewriting an algorithm in a slightly less natural (more fortran-ish) way. \n",
    "\n",
    "Note also that Numba does _not_ compile all of the libraries that you import (though it supports a reasonable subset of the numpy libraries). So if you import some module X and call `X.foo()` this function will still run slowly."
   ]
  },
  {
   "cell_type": "markdown",
   "metadata": {},
   "source": [
    "## Method 5 - Two cores are better than one\n",
    "\n",
    "Computers are getting more and more cores with every generation (the maxima server has 32, the mathprog group's server has 72, even your phone probably has 4). So why are we only using 1 core in our python program so far?\n",
    "\n",
    "### Discussion questions: \n",
    "* What's the difference between Multi-threading vs Multi-processing?\n",
    "* What is Python's GIL?\n",
    "* GPU based parallelisation\n",
    "\n",
    "### Suggested approach \n",
    "Use Numba library with `@jit(parallel=True,nopython=True)` (can also explicity set `nogil=True` for any function to be called in a parallel thread. Indicate that loops are to be done in parallel by using `numba.prange(n)` instead of `range(n)`: that is a loop `for i in prange(n)` will be carried out automaticallly by multiple threads. They automatically synchronise (wait for all of the threads to finish) at the end of the for-loop.\n",
    "\n",
    "When doing the parallisation consider:\n",
    "* Want reasonable chunks of work in each thread - synchronisation costs time\n",
    "* Need to avoid conflicts where multiple threads want to write to the same memory: simultaneous read is fine. Avoid needing to use locks\n",
    "* Limit to 2 threads - partly because of the number of people on the server, and because unless we significantly increase the size of matrices there will be very limited benefit from using many more. To enforce this use:\n",
    "```python\n",
    "import os\n",
    "os.environ[\"NUMBA_NUM_THREADS\"]=\"2\"\n",
    "import numba\n",
    "```\n",
    "Note that this has to be done before you load numba for the first time. If you are working in a notebook where you have used numba previously, please re-start the kernel. If you are working on a command line version of python you could also set the `NUMBA_NUM_THREADS` environmental variable before you even start python.\n",
    "\n",
    "\n",
    "\n"
   ]
  },
  {
   "cell_type": "code",
   "execution_count": null,
   "metadata": {},
   "outputs": [],
   "source": [
    "# please restart the kernel before executing this for the first time\n",
    "# (the thread limit is only enforced when numba is first loaded)\n",
    "import os\n",
    "os.environ[\"NUMBA_NUM_THREADS\"]=\"2\"\n",
    "import numba\n",
    "from numba import jit,float64,prange\n",
    "import numpy as np\n",
    "\n",
    "# add jit decorator here\n",
    "def parSolve(A,b):\n",
    "    \"Parallel gaussian elimination using numba\"\n",
    "    # write parallel version of numbaSolve() here\n",
    "    return x\n",
    "\n",
    "def gaussPar(A,b):\n",
    "    \"Call the parallel version compiled with numba\"\n",
    "    # write wrapper function to call parSolve()\n",
    "    return x\n",
    "\n",
    "import gausstest\n",
    "gaussPar(*gausstest.randProb(5)) # compile & test code"
   ]
  },
  {
   "cell_type": "markdown",
   "metadata": {},
   "source": [
    "#### Measuring performance of parallel code\n",
    "The default speed test will only report CPU time used. This doesn't tell you whether it has been used by 1 CPU or several. In fact, due to the overhead of parallelisation we expect the CPU time to go up - though hopefully not by very much. At the same time the elapsed time should go down."
   ]
  },
  {
   "cell_type": "code",
   "execution_count": null,
   "metadata": {},
   "outputs": [],
   "source": [
    "gausstest.speed(gaussPar,1600)  # by default measures CPU need to test ellapsed time as well"
   ]
  },
  {
   "cell_type": "code",
   "execution_count": null,
   "metadata": {},
   "outputs": [],
   "source": [
    "## measure the cost of parallel threads\n",
    "import numpy as np\n",
    "import timeit,time,gc\n",
    "from statistics import mean,stdev\n",
    "from random import seed,random\n",
    "\n",
    "def parspeed(method,maxSize=400):\n",
    "    from gausstest import randProb\n",
    "    seed(123456) # fix some arbitrary seed so we keep generating the same data\n",
    "    prev,n = 0.0, 50\n",
    "    gc.disable()\n",
    "    while n <= maxSize:\n",
    "        gc.collect() # manual cleanout of garbage before each repeat\n",
    "        #CPU = -time.process_time()\n",
    "        T = timeit.repeat(stmt=\"method(A,b)\",setup=f\"A,b=randProb({n})\",\n",
    "                          # need timer to be subtractable so make it a vector\n",
    "                      timer=lambda : np.array([time.perf_counter(),time.process_time()]),\n",
    "                          repeat=5,number=1,globals=locals())\n",
    "        #CPU += time.process_time()\n",
    "        CPU = [ x[1] for x in T]\n",
    "        t = wall = [x[0] for x in T]\n",
    "        nThread = [ c/s for c,s in zip(CPU,wall)]\n",
    "        print(\"%4d elapsed %10.4f σ=%.2f sec\" % (\n",
    "            n,mean(t),stdev(t)),\"(x %.2f)\"%(mean(t)/prev) if prev > 0 else \" \"*8,\n",
    "             \"%.2f σ=%.2f threads used\"%(mean(nThread),stdev(nThread)))\n",
    "        prev = mean(t)\n",
    "        n *= 2\n",
    "    gc.enable()"
   ]
  },
  {
   "cell_type": "code",
   "execution_count": null,
   "metadata": {},
   "outputs": [],
   "source": [
    "parspeed(gaussPar,1600)  # need to test ellapsed time as well"
   ]
  }
 ],
 "metadata": {
  "kernelspec": {
   "display_name": "Python 3",
   "language": "python",
   "name": "python3"
  },
  "language_info": {
   "codemirror_mode": {
    "name": "ipython",
    "version": 3
   },
   "file_extension": ".py",
   "mimetype": "text/x-python",
   "name": "python",
   "nbconvert_exporter": "python",
   "pygments_lexer": "ipython3",
   "version": "3.6.10"
  }
 },
 "nbformat": 4,
 "nbformat_minor": 4
}
